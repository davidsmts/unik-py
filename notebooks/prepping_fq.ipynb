{
 "cells": [
  {
   "cell_type": "code",
   "execution_count": 1,
   "id": "b03e680c-a124-4b8b-9017-32c3ff665fe5",
   "metadata": {},
   "outputs": [],
   "source": [
    "import numpy as np\n",
    "import sys\n",
    "import os"
   ]
  },
  {
   "cell_type": "code",
   "execution_count": 2,
   "id": "e2de0bb3-3d11-421f-88cc-65650572003b",
   "metadata": {},
   "outputs": [],
   "source": [
    "def process(lines=None):\n",
    "    ks = ['name', 'sequence', 'optional', 'quality']\n",
    "    return {k: v for k, v in zip(ks, lines)}\n",
    "\n",
    "\n",
    "def fq_to_fa(filename=\"../data/yazhini/david.schmotz01/reads1/anonymous_reads.fq\", target_filename=\"../data/yazhini/reads1.fasta\"):\n",
    "    if not os.path.exists(filename):\n",
    "        raise SystemError(\"Error: File does not exist\\n\")\n",
    "    \n",
    "    data = []\n",
    "    \n",
    "    n = 4\n",
    "    with open(filename, 'r') as fh:\n",
    "        lines = []\n",
    "        for line in fh:\n",
    "            lines.append(line.rstrip())\n",
    "            if len(lines) == n:\n",
    "                record = process(lines)\n",
    "                data.append(record)\n",
    "                lines = []\n",
    "    \n",
    "    with open(target_filename, 'w') as tar_fh:\n",
    "        for entry in data:\n",
    "            tar_fh.write(entry[\"name\"] + \"\\n\" + entry[\"sequence\"] + \"\\n\")\n",
    "    "
   ]
  },
  {
   "cell_type": "code",
   "execution_count": 5,
   "id": "31c98f08-22d1-487e-8c59-fa9242295a39",
   "metadata": {},
   "outputs": [],
   "source": [
    "for i in range(10):\n",
    "    fq_to_fa(\"../data/yazhini/david.schmotz01/reads\"+str(i)+\"/anonymous_reads.fq\", \"../data/yazhini/reads\"+str(i)+\".fasta\")"
   ]
  },
  {
   "cell_type": "code",
   "execution_count": null,
   "id": "eda289ae-e962-4133-b89d-dfaef102c1bb",
   "metadata": {},
   "outputs": [],
   "source": []
  }
 ],
 "metadata": {
  "kernelspec": {
   "display_name": "Python 3 (ipykernel)",
   "language": "python",
   "name": "python3"
  },
  "language_info": {
   "codemirror_mode": {
    "name": "ipython",
    "version": 3
   },
   "file_extension": ".py",
   "mimetype": "text/x-python",
   "name": "python",
   "nbconvert_exporter": "python",
   "pygments_lexer": "ipython3",
   "version": "3.12.3"
  }
 },
 "nbformat": 4,
 "nbformat_minor": 5
}
