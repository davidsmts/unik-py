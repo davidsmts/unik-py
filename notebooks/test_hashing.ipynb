{
 "cells": [
  {
   "cell_type": "code",
   "execution_count": 2,
   "id": "41ae8fdc-d5c8-4d51-b45d-929d300500a7",
   "metadata": {},
   "outputs": [
    {
     "name": "stdout",
     "output_type": "stream",
     "text": [
      "Encoded: (122074041664254385,)\n",
      "Decoded: ACGTACGTACGTACGTACGTACGTACGTAC\n"
     ]
    }
   ],
   "source": [
    "def encode_dna_sequence(seq):\n",
    "    \"\"\"Encodes a DNA sequence of 30 letters (A, C, G, T) into a single integer.\"\"\"\n",
    "    mapping = {'A': 0, 'C': 1, 'G': 2, 'T': 3}\n",
    "    packed = 0\n",
    "    for char in seq:\n",
    "        packed = (packed << 2) | mapping[char]  # Shift left by 2 bits and add the mapped number\n",
    "    return (packed,)  # Store as a tuple to ensure hashability\n",
    "\n",
    "def decode_dna_sequence(encoded):\n",
    "    \"\"\"Decodes the integer back into the original DNA sequence.\"\"\"\n",
    "    rev_mapping = ['A', 'C', 'G', 'T']\n",
    "    packed = encoded[0]\n",
    "    seq = []\n",
    "    for _ in range(30):\n",
    "        seq.append(rev_mapping[packed & 0b11])  # Extract the last 2 bits\n",
    "        packed >>= 2  # Shift right by 2 bits\n",
    "    return ''.join(seq[::-1])  # Reverse to get the original order\n",
    "\n",
    "# Example usage\n",
    "dna_seq = \"ACGTACGTACGTACGTACGTACGTACGTAC\"  # 30 bases\n",
    "encoded = encode_dna_sequence(dna_seq)\n",
    "print(\"Encoded:\", encoded)  # A tuple with one integer\n",
    "decoded = decode_dna_sequence(encoded)\n",
    "print(\"Decoded:\", decoded)  # Should match the original DNA sequence"
   ]
  },
  {
   "cell_type": "code",
   "execution_count": 3,
   "id": "4d9d1e4a-e8ec-4769-8777-980825b1caeb",
   "metadata": {},
   "outputs": [
    {
     "data": {
      "text/plain": [
       "True"
      ]
     },
     "execution_count": 3,
     "metadata": {},
     "output_type": "execute_result"
    }
   ],
   "source": [
    "decoded == dna_seq"
   ]
  },
  {
   "cell_type": "code",
   "execution_count": null,
   "id": "5bdf3b53-ca24-4564-a2fb-2a0cc53567ce",
   "metadata": {},
   "outputs": [],
   "source": []
  }
 ],
 "metadata": {
  "kernelspec": {
   "display_name": "Python 3 (ipykernel)",
   "language": "python",
   "name": "python3"
  },
  "language_info": {
   "codemirror_mode": {
    "name": "ipython",
    "version": 3
   },
   "file_extension": ".py",
   "mimetype": "text/x-python",
   "name": "python",
   "nbconvert_exporter": "python",
   "pygments_lexer": "ipython3",
   "version": "3.12.3"
  }
 },
 "nbformat": 4,
 "nbformat_minor": 5
}
